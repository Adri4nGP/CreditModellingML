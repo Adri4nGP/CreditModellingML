{
 "cells": [
  {
   "cell_type": "markdown",
   "metadata": {},
   "source": [
    "# Machine Learning Project - Credit Modelling"
   ]
  },
  {
   "cell_type": "markdown",
   "metadata": {},
   "source": [
    "This project will focus on credit modelling, a well-known data science problem that focuses on modeling a borrower's credit risk. We'll be working with financial lending data from Lending Club. Lending Club is a marketplace for personal loans that matches borrowers who are seeking a loan with investors looking to lend money and make a return.\n",
    "\n",
    "Each borrower completes a comprehensive application, providing their past financial history, the reason for the loan, and more. Lending Club evaluates each borrower's credit score using past historical data and their own data science process to assign an interest rate to the borrower. \n",
    "\n",
    "A higher interest rate means that the borrower is a risk and more unlikely to pay back the loan. While a lower interest rate means that the borrower has a good credit history and is more likely to pay back the loan. The interest rates range from 5.32% all the way to 30.99% and each borrower is given a grade according to the interest rate they were assigned. If the borrower accepts the interest rate, then the loan is listed on the Lending Club marketplace.\n",
    "\n",
    "If a loan is fully paid off on time, the investors make a return which corresponds to the interest rate the borrower had to pay in addition to the requested amount. Many loans aren't completely paid off on time and some borrowers default on the loan.\n",
    "\n",
    "While Lending Club has to be extremely savvy and rigorous with their credit modelling, investors on Lending Club need to be equally as savvy about determining which loans are more likely to be paid off. If investors believe the borrower can pay back the loan, even if he or she has a weak financial history, then investors can make more money through the larger additional amount the borrower has to pay.\n",
    "\n",
    "Most investors use a portfolio strategy to invest small amounts in many loans, with healthy mixes of low, medium, and interest loans. In this project, we'll focus on the mindset of a conservative investor who only wants to invest in the loans that have a good chance of being paid off on time. To do that, we'll need to first understand the features in the dataset and then experiment with building machine learning models that reliably predict if a loan will be paid off or not."
   ]
  },
  {
   "cell_type": "markdown",
   "metadata": {},
   "source": [
    "## The Data"
   ]
  },
  {
   "cell_type": "markdown",
   "metadata": {},
   "source": [
    "Lending Club used to release data for all of the approved and declined loan applications periodically on their website.\n",
    "\n",
    "[The dataset that is used](https://www.kaggle.com/datasets/samaxtech/lending-club-20072011-data) contains the features of the approved loans from 2007 to 2011.\n",
    "\n",
    "[There is also a data dictionary (in XLS format)](https://docs.google.com/spreadsheets/d/191B2yJ4H1ZPXq0_ByhUgWMFZOYem5jFz0Y3by_7YBY4/edit#gid=2081333097) which contains information on the different column names towards the bottom of the page.\n",
    "\n",
    "The LoanStats sheet describes the approved loans datasets and the RejectStats describes the rejected loans datasets. Since rejected applications don't appear on the Lending Club marketplace and aren't available for investment, we'll be focusing on approved loans.\n",
    "\n",
    "The approved loans datasets contain information on current loans, completed loans, and defaulted loans. Let's now define the problem statement for this machine learning project:\n",
    "\n",
    "Can we build a machine learning model that can accurately predict if a borrower will pay off their loan on time or not?\n",
    "Before we can start doing machine learning, we need to define what features we want to use and which column represents the target column we want to predict. "
   ]
  },
  {
   "cell_type": "code",
   "execution_count": 1,
   "metadata": {},
   "outputs": [
    {
     "name": "stdout",
     "output_type": "stream",
     "text": [
      "id                                1077501\n",
      "member_id                      1.2966e+06\n",
      "loan_amnt                            5000\n",
      "funded_amnt                          5000\n",
      "funded_amnt_inv                      4975\n",
      "term                            36 months\n",
      "int_rate                           10.65%\n",
      "installment                        162.87\n",
      "grade                                   B\n",
      "sub_grade                              B2\n",
      "emp_title                             NaN\n",
      "emp_length                      10+ years\n",
      "home_ownership                       RENT\n",
      "annual_inc                          24000\n",
      "verification_status              Verified\n",
      "issue_d                          Dec-2011\n",
      "loan_status                    Fully Paid\n",
      "pymnt_plan                              n\n",
      "purpose                       credit_card\n",
      "title                            Computer\n",
      "zip_code                            860xx\n",
      "addr_state                             AZ\n",
      "dti                                 27.65\n",
      "delinq_2yrs                             0\n",
      "earliest_cr_line                 Jan-1985\n",
      "inq_last_6mths                          1\n",
      "open_acc                                3\n",
      "pub_rec                                 0\n",
      "revol_bal                           13648\n",
      "revol_util                          83.7%\n",
      "total_acc                               9\n",
      "initial_list_status                     f\n",
      "out_prncp                               0\n",
      "out_prncp_inv                           0\n",
      "total_pymnt                       5863.16\n",
      "total_pymnt_inv                   5833.84\n",
      "total_rec_prncp                      5000\n",
      "total_rec_int                      863.16\n",
      "total_rec_late_fee                      0\n",
      "recoveries                              0\n",
      "collection_recovery_fee                 0\n",
      "last_pymnt_d                     Jan-2015\n",
      "last_pymnt_amnt                    171.62\n",
      "last_credit_pull_d               Jun-2016\n",
      "collections_12_mths_ex_med              0\n",
      "policy_code                             1\n",
      "application_type               INDIVIDUAL\n",
      "acc_now_delinq                          0\n",
      "chargeoff_within_12_mths                0\n",
      "delinq_amnt                             0\n",
      "pub_rec_bankruptcies                    0\n",
      "tax_liens                               0\n",
      "Name: 0, dtype: object\n",
      "52\n"
     ]
    },
    {
     "name": "stderr",
     "output_type": "stream",
     "text": [
      "C:\\Users\\adrig\\anaconda3\\lib\\site-packages\\IPython\\core\\interactiveshell.py:3063: DtypeWarning: Columns (0) have mixed types.Specify dtype option on import or set low_memory=False.\n",
      "  interactivity=interactivity, compiler=compiler, result=result)\n"
     ]
    }
   ],
   "source": [
    "import pandas as pd\n",
    "pd.set_option('display.max_columns', 100)\n",
    "\n",
    "loans_2007 = pd.read_csv('loans_2007.csv')\n",
    "\n",
    "print(loans_2007.iloc[0])\n",
    "print(loans_2007.shape[1])"
   ]
  },
  {
   "cell_type": "code",
   "execution_count": null,
   "metadata": {},
   "outputs": [],
   "source": []
  },
  {
   "cell_type": "markdown",
   "metadata": {},
   "source": [
    "## Data Cleaning\n",
    "\n",
    "Since there are 54 columns, three groups of 18 columns are explored seperately to make it less cumbersome. \n",
    "\n",
    "The columns that meet the following criteria should be dropped:\n",
    "\n",
    "- disclose information from the future (after the loan has already been funded)\n",
    "- don't affect a borrower's ability to pay back a loan (e.g. a randomly generated ID value by Lending Club)\n",
    "- need to be cleaned up and are formatted poorly\n",
    "- require more data or a lot of processing to turn into a useful feature\n",
    "- contain redundant information  "
   ]
  },
  {
   "cell_type": "markdown",
   "metadata": {},
   "source": [
    "### Columns group 1 of 3"
   ]
  },
  {
   "cell_type": "markdown",
   "metadata": {},
   "source": [
    "The description of each column can be read in the following table:\n",
    "\n",
    "| name                | dtype   | first value | description                                                                                                                       |\n",
    "|---------------------|---------|-------------|-----------------------------------------------------------------------------------------------------------------------------------|\n",
    "| id                  | object  | 1077501     | A unique LC assigned ID for the loan listing.                                                                                     |\n",
    "| member_id           | float64 | 1.2966e+06  | A unique LC assigned Id for the borrower member.                                                                                  |\n",
    "| loan_amnt           | float64 | 5000        | The listed amount of the loan applied for by the borrower.                                                                        |\n",
    "| funded_amnt         | float64 | 5000        | The total amount committed to that loan at that point in time.                                                                    |\n",
    "| funded_amnt_inv     | float64 | 49750       | The total amount committed by investors for that loan at that point in time.                                                      |\n",
    "| term                | object  | 36 months   | The number of payments on the loan. Values are in months and can be either 36 or 60.                                              |\n",
    "| int_rate            | object  | 10.65%      | Interest Rate on the loan                                                                                                         |\n",
    "| installment         | float64 | 162.87      | The monthly payment owed by the borrower if the loan originates.                                                                  |\n",
    "| grade               | object  | B           | LC assigned loan grade                                                                                                            |\n",
    "| sub_grade           | object  | B2          | LC assigned loan subgrade                                                                                                         |\n",
    "| emp_title           | object  | NaN         | The job title supplied by the Borrower when applying for the loan.                                                                |\n",
    "| emp_length          | object  | 10+ years   | Employment length in years. Possible values are between 0 and 10 where 0 means less than one year and 10 means ten or more years. |\n",
    "| home_ownership      | object  | RENT        | The home ownership status provided by the borrower during registration. Our values are: RENT, OWN, MORTGAGE, OTHER.               |\n",
    "| annual_inc          | float64 | 24000       | The self-reported annual income provided by the borrower during registration.                                                     |\n",
    "| verification_status | object  | Verified    | Indicates if income was verified by LC, not verified, or if the income source was verified                                        |\n",
    "| issue_d             | object  | Dec-2011    | The month which the loan was funded                                                                                               |\n",
    "| loan_status         | object  | Charged Off | Current status of the loan                                                                                                        |\n",
    "| pymnt_plan          | object  | n           | Indicates if a payment plan has been put in place for the loan                                                                    |\n",
    "| purpose             | object  | car         | A category provided by the borrower for the loan request.                                                                         |"
   ]
  },
  {
   "cell_type": "markdown",
   "metadata": {},
   "source": [
    "After analyzing each column, we can conclude that the following features need to be removed:\n",
    "\n",
    "- id: randomly generated field by Lending Club for unique identification purposes only\n",
    "- member_id: also a randomly generated field by Lending Club for unique identification purposes only\n",
    "- funded_amnt: leaks data from the future (after the loan is already started to be funded)\n",
    "- funded_amnt_inv: also leaks data from the future (after the loan is already started to be funded)\n",
    "- grade: contains redundant information as the interest rate column (int_rate)\n",
    "- sub_grade: also contains redundant information as the interest rate column (int_rate)\n",
    "- emp_title: requires other data and a lot of processing to potentially be useful\n",
    "- issue_d: leaks data from the future (after the loan is already completely funded)"
   ]
  },
  {
   "cell_type": "code",
   "execution_count": null,
   "metadata": {},
   "outputs": [],
   "source": []
  },
  {
   "cell_type": "code",
   "execution_count": 2,
   "metadata": {},
   "outputs": [],
   "source": [
    "drop_columns = ['id','member_id','funded_amnt','funded_amnt_inv','grade','sub_grade','emp_title','issue_d']\n",
    "loans_2007 = loans_2007.drop(drop_columns, axis = 1)"
   ]
  },
  {
   "cell_type": "markdown",
   "metadata": {},
   "source": [
    "### Columns group 2 of 3 \n",
    "\n",
    "| name                | dtype   | first value | description                                                                                                                                                                                              |\n",
    "|---------------------|---------|-------------|----------------------------------------------------------------------------------------------------------------------------------------------------------------------------------------------------------|\n",
    "| title               | object  | Computer    | The loan title provided by the borrower                                                                                                                                                                  |\n",
    "| zip_code            | object  | 860xx       | The first 3 numbers of the zip code provided by the borrower in the loan application.                                                                                                                    |\n",
    "| addr_state          | object  | AZ          | The state provided by the borrower in the loan application                                                                                                                                               |\n",
    "| dti                 | float64 | 27.65       | A ratio calculated using the borrower’s total monthly debt payments on the total debt obligations, excluding mortgage and the requested LC loan, divided by the borrower’s self-reported monthly income. |\n",
    "| delinq_2yrs         | float64 | 0           | The number of 30+ days past-due incidences of delinquency in the borrower's credit file for the past 2 years                                                                                             |\n",
    "| earliest_cr_line    | object  | Jan-1985    | The month the borrower's earliest reported credit line was opened                                                                                                                                        |\n",
    "| inq_last_6mths      | float64 | 1           | The number of inquiries in past 6 months (excluding auto and mortgage inquiries)                                                                                                                         |\n",
    "| open_acc            | float64 | 3           | The number of open credit lines in the borrower's credit file.                                                                                                                                           |\n",
    "| pub_rec             | float64 | 0           | Number of derogatory public records                                                                                                                                                                      |\n",
    "| revol_bal           | float64 | 13648       | Total credit revolving balance                                                                                                                                                                           |\n",
    "| revol_util          | object  | 83.7%       | Revolving line utilization rate, or the amount of credit the borrower is using relative to all available revolving credit.                                                                               |\n",
    "| total_acc           | float64 | 9           | The total number of credit lines currently in the borrower's credit file                                                                                                                                 |\n",
    "| initial_list_status | object  | f           | The initial listing status of the loan. Possible values are – W, F                                                                                                                                       |\n",
    "| out_prncp           | float64 | 0           | Remaining outstanding principal for total amount funded                                                                                                                                                  |\n",
    "| out_prncp_inv       | float64 | 0           | Remaining outstanding principal for portion of total amount funded by investors                                                                                                                          |\n",
    "| total_pymnt         | float64 | 5863.16     | Payments received to date for total amount funded                                                                                                                                                        |\n",
    "| total_pymnt_inv     | float64 | 5833.84     | Payments received to date for portion of total amount funded by investors                                                                                                                                |\n",
    "| total_rec_prncp     | float64 | 5000        | Principal received to date                                                                                                                                                                               |"
   ]
  },
  {
   "cell_type": "markdown",
   "metadata": {},
   "source": [
    "Within this group of columns, we need to drop the following columns:\n",
    "\n",
    "- zip_code: redundant with the addr_state column since only the first 3 digits of the 5-digit zip code are visible (which can only be used to identify the state the borrower lives in)\n",
    "- out_prncp: leaks data from the future, (after the loan already started to be paid off)\n",
    "- out_prncp_inv: also leaks data from the future, (after the loan already started to be paid off)\n",
    "- total_pymnt: also leaks data from the future, (after the loan already started to be paid off)\n",
    "- total_pymnt_inv: also leaks data from the future, (after the loan already started to be paid off)\n",
    "- total_rec_prncp: also leaks data from the future, (after the loan already started to be paid off)"
   ]
  },
  {
   "cell_type": "code",
   "execution_count": 3,
   "metadata": {},
   "outputs": [
    {
     "data": {
      "text/plain": [
       "21265"
      ]
     },
     "execution_count": 3,
     "metadata": {},
     "output_type": "execute_result"
    }
   ],
   "source": [
    "len(loans_2007['title'].unique())"
   ]
  },
  {
   "cell_type": "code",
   "execution_count": 4,
   "metadata": {},
   "outputs": [],
   "source": [
    "drop_columns_2 = ['zip_code','out_prncp','out_prncp_inv','total_pymnt','total_pymnt_inv','total_rec_prncp']\n",
    "loans_2007 = loans_2007.drop(drop_columns_2, axis = 1)"
   ]
  },
  {
   "cell_type": "markdown",
   "metadata": {},
   "source": [
    "### Columns group 3 of 3 "
   ]
  },
  {
   "cell_type": "markdown",
   "metadata": {},
   "source": [
    "| name                       | dtype   | first value | description                                                                                          |\n",
    "|----------------------------|---------|-------------|------------------------------------------------------------------------------------------------------|\n",
    "| total_rec_int              | float64 | 863.16      | Interest received to date                                                                            |\n",
    "| total_rec_late_fee         | float64 | 0           | Late fees received to date                                                                           |\n",
    "| recoveries                 | float64 | 0           | post charge off gross recovery                                                                       |\n",
    "| collection_recovery_fee    | float64 | 0           | post charge off collection fee                                                                       |\n",
    "| last_pymnt_d               | object  | Jan-2015    | Last month payment was received                                                                      |\n",
    "| last_pymnt_amnt            | float64 | 171.62      | Last total payment amount received                                                                   |\n",
    "| last_credit_pull_d         | object  | Jun-2016    | The most recent month LC pulled credit for this loan                                                 |\n",
    "| collections_12_mths_ex_med | float64 | 0           | Number of collections in 12 months excluding medical collections                                     |\n",
    "| policy_code                | float64 | 1           | publicly available policy_code=1 new products not publicly available policy_code=2                   |\n",
    "| application_type           | object  | INDIVIDUAL  | Indicates whether the loan is an individual application or a joint application with two co-borrowers |\n",
    "| acc_now_delinq             | float64 | 0           | The number of accounts on which the borrower is now delinquent.                                      |\n",
    "| chargeoff_within_12_mths   | float64 | 0           | Number of charge-offs within 12 months                                                               |\n",
    "| delinq_amnt                | float64 | 0           | The past-due amount owed for the accounts on which the borrower is now delinquent.                   |\n",
    "| pub_rec_bankruptcies       | float64 | 0           | Number of public record bankruptcies                                                                 |\n",
    "| tax_liens                  | float64 | 0           | Number of tax liens                                                                                  |"
   ]
  },
  {
   "cell_type": "markdown",
   "metadata": {},
   "source": [
    "In the last group of columns, we need to drop the following columns:\n",
    "\n",
    "- total_rec_int: leaks data from the future, (after the loan has started to be paid off),\n",
    "- total_rec_late_fee: leaks data from the future, (after the loan has started to be paid off),\n",
    "- recoveries: leaks data from the future, (after the loan has started to be paid off),\n",
    "- collection_recovery_fee: leaks data from the future, (after the loan has started to be paid off),\n",
    "- last_pymnt_d: leaks data from the future, (after the loan has started to be paid off),\n",
    "- last_pymnt_amnt: leaks data from the future, (after the loan has started to be paid off)."
   ]
  },
  {
   "cell_type": "code",
   "execution_count": 5,
   "metadata": {},
   "outputs": [],
   "source": [
    "drop_columns_3 = ['total_rec_int','total_rec_late_fee','recoveries','collection_recovery_fee','last_pymnt_d','last_pymnt_amnt']\n",
    "loans_2007 = loans_2007.drop(drop_columns_3, axis = 1)"
   ]
  },
  {
   "cell_type": "markdown",
   "metadata": {},
   "source": [
    "### Choosing target value\n",
    "\n",
    "The only column that directly describes if a loan was paid off on time, had delayed payments, or was defaulted on the borrower is 'loan_status'. This column should be the one used as target."
   ]
  },
  {
   "cell_type": "code",
   "execution_count": 6,
   "metadata": {},
   "outputs": [
    {
     "data": {
      "text/plain": [
       "Fully Paid                                             33136\n",
       "Charged Off                                             5634\n",
       "Does not meet the credit policy. Status:Fully Paid      1988\n",
       "Current                                                  961\n",
       "Does not meet the credit policy. Status:Charged Off      761\n",
       "Late (31-120 days)                                        24\n",
       "In Grace Period                                           20\n",
       "Late (16-30 days)                                          8\n",
       "Default                                                    3\n",
       "Name: loan_status, dtype: int64"
      ]
     },
     "execution_count": 6,
     "metadata": {},
     "output_type": "execute_result"
    }
   ],
   "source": [
    "loans_2007['loan_status'].value_counts()"
   ]
  },
  {
   "cell_type": "markdown",
   "metadata": {},
   "source": [
    "| Loan Status                                         | Count | Meaning                                                                                                                                           |\n",
    "|-----------------------------------------------------|-------|---------------------------------------------------------------------------------------------------------------------------------------------------|\n",
    "| Fully Paid                                          | 33136 | Loan has been fully paid off.                                                                                                                     |\n",
    "| Charged Off                                         | 5634  | Loan for which there is no longer a reasonable expectation of further payments.                                                                   |\n",
    "| Does not meet the credit policy. Status:Fully Paid  | 1988  | While the loan was paid off, the loan application today would no longer meet the credit policy and wouldn't be approved on to the marketplace.    |\n",
    "| Does not meet the credit policy. Status:Charged Off | 761   | While the loan was charged off, the loan application today would no longer meet the credit policy and wouldn't be approved on to the marketplace. |\n",
    "| In Grace Period                                     | 20    | The loan is past due but still in the grace period of 15 days.                                                                                    |\n",
    "| Late (16-30 days)                                   | 8     | Loan hasn't been paid in 16 to 30 days (late on the current payment).                                                                             |\n",
    "| Late (31-120 days)                                  | 24    | Loan hasn't been paid in 31 to 120 days (late on the current payment).                                                                            |\n",
    "| Current                                             | 961   | Loan is up to date on current payments.                                                                                                           |\n",
    "| Default                                             | 3     | Loan is defaulted on and no payment has been made for more than 121 days.                                                                         |"
   ]
  },
  {
   "cell_type": "markdown",
   "metadata": {},
   "source": [
    "The values that describe loans that are still ongoing are of no use. The values Fully paid and Charged Off are the ones that describe the outcome of a loan and can be used to treat the problem as a binary classification one.\n",
    "The value Default is similar to Charged Off, but with the difference that there is some hope that it may be payed back at some point."
   ]
  },
  {
   "cell_type": "markdown",
   "metadata": {},
   "source": [
    "Itmust be noted that there is class imbalance within the two classes. There are 33136 fully paid off loans and 5634 charged off. This will produce a bias towards the paid off class, so this should be addressed at some point."
   ]
  },
  {
   "cell_type": "code",
   "execution_count": 7,
   "metadata": {},
   "outputs": [],
   "source": [
    "mask = (loans_2007['loan_status'] == 'Fully Paid' )| (loans_2007['loan_status'] == 'Charged Off')\n",
    "\n",
    "loans_2007 = loans_2007[mask]\n",
    "\n",
    "mapping_dict = {\n",
    "    \"loan_status\": {\n",
    "        \"Charged Off\": 0,\n",
    "        \"Fully Paid\": 1\n",
    "    }\n",
    "}\n",
    "loans_2007 = loans_2007.replace(mapping_dict)"
   ]
  },
  {
   "cell_type": "code",
   "execution_count": 8,
   "metadata": {},
   "outputs": [
    {
     "data": {
      "text/html": [
       "<div>\n",
       "<style scoped>\n",
       "    .dataframe tbody tr th:only-of-type {\n",
       "        vertical-align: middle;\n",
       "    }\n",
       "\n",
       "    .dataframe tbody tr th {\n",
       "        vertical-align: top;\n",
       "    }\n",
       "\n",
       "    .dataframe thead th {\n",
       "        text-align: right;\n",
       "    }\n",
       "</style>\n",
       "<table border=\"1\" class=\"dataframe\">\n",
       "  <thead>\n",
       "    <tr style=\"text-align: right;\">\n",
       "      <th></th>\n",
       "      <th>loan_amnt</th>\n",
       "      <th>term</th>\n",
       "      <th>int_rate</th>\n",
       "      <th>installment</th>\n",
       "      <th>emp_length</th>\n",
       "      <th>home_ownership</th>\n",
       "      <th>annual_inc</th>\n",
       "      <th>verification_status</th>\n",
       "      <th>loan_status</th>\n",
       "      <th>pymnt_plan</th>\n",
       "      <th>purpose</th>\n",
       "      <th>title</th>\n",
       "      <th>addr_state</th>\n",
       "      <th>dti</th>\n",
       "      <th>delinq_2yrs</th>\n",
       "      <th>earliest_cr_line</th>\n",
       "      <th>inq_last_6mths</th>\n",
       "      <th>open_acc</th>\n",
       "      <th>pub_rec</th>\n",
       "      <th>revol_bal</th>\n",
       "      <th>revol_util</th>\n",
       "      <th>total_acc</th>\n",
       "      <th>initial_list_status</th>\n",
       "      <th>last_credit_pull_d</th>\n",
       "      <th>collections_12_mths_ex_med</th>\n",
       "      <th>policy_code</th>\n",
       "      <th>application_type</th>\n",
       "      <th>acc_now_delinq</th>\n",
       "      <th>chargeoff_within_12_mths</th>\n",
       "      <th>delinq_amnt</th>\n",
       "      <th>pub_rec_bankruptcies</th>\n",
       "      <th>tax_liens</th>\n",
       "    </tr>\n",
       "  </thead>\n",
       "  <tbody>\n",
       "    <tr>\n",
       "      <th>0</th>\n",
       "      <td>5000.0</td>\n",
       "      <td>36 months</td>\n",
       "      <td>10.65%</td>\n",
       "      <td>162.87</td>\n",
       "      <td>10+ years</td>\n",
       "      <td>RENT</td>\n",
       "      <td>24000.0</td>\n",
       "      <td>Verified</td>\n",
       "      <td>1</td>\n",
       "      <td>n</td>\n",
       "      <td>credit_card</td>\n",
       "      <td>Computer</td>\n",
       "      <td>AZ</td>\n",
       "      <td>27.65</td>\n",
       "      <td>0.0</td>\n",
       "      <td>Jan-1985</td>\n",
       "      <td>1.0</td>\n",
       "      <td>3.0</td>\n",
       "      <td>0.0</td>\n",
       "      <td>13648.0</td>\n",
       "      <td>83.7%</td>\n",
       "      <td>9.0</td>\n",
       "      <td>f</td>\n",
       "      <td>Jun-2016</td>\n",
       "      <td>0.0</td>\n",
       "      <td>1.0</td>\n",
       "      <td>INDIVIDUAL</td>\n",
       "      <td>0.0</td>\n",
       "      <td>0.0</td>\n",
       "      <td>0.0</td>\n",
       "      <td>0.0</td>\n",
       "      <td>0.0</td>\n",
       "    </tr>\n",
       "    <tr>\n",
       "      <th>1</th>\n",
       "      <td>2500.0</td>\n",
       "      <td>60 months</td>\n",
       "      <td>15.27%</td>\n",
       "      <td>59.83</td>\n",
       "      <td>&lt; 1 year</td>\n",
       "      <td>RENT</td>\n",
       "      <td>30000.0</td>\n",
       "      <td>Source Verified</td>\n",
       "      <td>0</td>\n",
       "      <td>n</td>\n",
       "      <td>car</td>\n",
       "      <td>bike</td>\n",
       "      <td>GA</td>\n",
       "      <td>1.00</td>\n",
       "      <td>0.0</td>\n",
       "      <td>Apr-1999</td>\n",
       "      <td>5.0</td>\n",
       "      <td>3.0</td>\n",
       "      <td>0.0</td>\n",
       "      <td>1687.0</td>\n",
       "      <td>9.4%</td>\n",
       "      <td>4.0</td>\n",
       "      <td>f</td>\n",
       "      <td>Sep-2013</td>\n",
       "      <td>0.0</td>\n",
       "      <td>1.0</td>\n",
       "      <td>INDIVIDUAL</td>\n",
       "      <td>0.0</td>\n",
       "      <td>0.0</td>\n",
       "      <td>0.0</td>\n",
       "      <td>0.0</td>\n",
       "      <td>0.0</td>\n",
       "    </tr>\n",
       "    <tr>\n",
       "      <th>2</th>\n",
       "      <td>2400.0</td>\n",
       "      <td>36 months</td>\n",
       "      <td>15.96%</td>\n",
       "      <td>84.33</td>\n",
       "      <td>10+ years</td>\n",
       "      <td>RENT</td>\n",
       "      <td>12252.0</td>\n",
       "      <td>Not Verified</td>\n",
       "      <td>1</td>\n",
       "      <td>n</td>\n",
       "      <td>small_business</td>\n",
       "      <td>real estate business</td>\n",
       "      <td>IL</td>\n",
       "      <td>8.72</td>\n",
       "      <td>0.0</td>\n",
       "      <td>Nov-2001</td>\n",
       "      <td>2.0</td>\n",
       "      <td>2.0</td>\n",
       "      <td>0.0</td>\n",
       "      <td>2956.0</td>\n",
       "      <td>98.5%</td>\n",
       "      <td>10.0</td>\n",
       "      <td>f</td>\n",
       "      <td>Jun-2016</td>\n",
       "      <td>0.0</td>\n",
       "      <td>1.0</td>\n",
       "      <td>INDIVIDUAL</td>\n",
       "      <td>0.0</td>\n",
       "      <td>0.0</td>\n",
       "      <td>0.0</td>\n",
       "      <td>0.0</td>\n",
       "      <td>0.0</td>\n",
       "    </tr>\n",
       "    <tr>\n",
       "      <th>3</th>\n",
       "      <td>10000.0</td>\n",
       "      <td>36 months</td>\n",
       "      <td>13.49%</td>\n",
       "      <td>339.31</td>\n",
       "      <td>10+ years</td>\n",
       "      <td>RENT</td>\n",
       "      <td>49200.0</td>\n",
       "      <td>Source Verified</td>\n",
       "      <td>1</td>\n",
       "      <td>n</td>\n",
       "      <td>other</td>\n",
       "      <td>personel</td>\n",
       "      <td>CA</td>\n",
       "      <td>20.00</td>\n",
       "      <td>0.0</td>\n",
       "      <td>Feb-1996</td>\n",
       "      <td>1.0</td>\n",
       "      <td>10.0</td>\n",
       "      <td>0.0</td>\n",
       "      <td>5598.0</td>\n",
       "      <td>21%</td>\n",
       "      <td>37.0</td>\n",
       "      <td>f</td>\n",
       "      <td>Apr-2016</td>\n",
       "      <td>0.0</td>\n",
       "      <td>1.0</td>\n",
       "      <td>INDIVIDUAL</td>\n",
       "      <td>0.0</td>\n",
       "      <td>0.0</td>\n",
       "      <td>0.0</td>\n",
       "      <td>0.0</td>\n",
       "      <td>0.0</td>\n",
       "    </tr>\n",
       "    <tr>\n",
       "      <th>5</th>\n",
       "      <td>5000.0</td>\n",
       "      <td>36 months</td>\n",
       "      <td>7.90%</td>\n",
       "      <td>156.46</td>\n",
       "      <td>3 years</td>\n",
       "      <td>RENT</td>\n",
       "      <td>36000.0</td>\n",
       "      <td>Source Verified</td>\n",
       "      <td>1</td>\n",
       "      <td>n</td>\n",
       "      <td>wedding</td>\n",
       "      <td>My wedding loan I promise to pay back</td>\n",
       "      <td>AZ</td>\n",
       "      <td>11.20</td>\n",
       "      <td>0.0</td>\n",
       "      <td>Nov-2004</td>\n",
       "      <td>3.0</td>\n",
       "      <td>9.0</td>\n",
       "      <td>0.0</td>\n",
       "      <td>7963.0</td>\n",
       "      <td>28.3%</td>\n",
       "      <td>12.0</td>\n",
       "      <td>f</td>\n",
       "      <td>Jan-2016</td>\n",
       "      <td>0.0</td>\n",
       "      <td>1.0</td>\n",
       "      <td>INDIVIDUAL</td>\n",
       "      <td>0.0</td>\n",
       "      <td>0.0</td>\n",
       "      <td>0.0</td>\n",
       "      <td>0.0</td>\n",
       "      <td>0.0</td>\n",
       "    </tr>\n",
       "  </tbody>\n",
       "</table>\n",
       "</div>"
      ],
      "text/plain": [
       "   loan_amnt        term int_rate  installment emp_length home_ownership  \\\n",
       "0     5000.0   36 months   10.65%       162.87  10+ years           RENT   \n",
       "1     2500.0   60 months   15.27%        59.83   < 1 year           RENT   \n",
       "2     2400.0   36 months   15.96%        84.33  10+ years           RENT   \n",
       "3    10000.0   36 months   13.49%       339.31  10+ years           RENT   \n",
       "5     5000.0   36 months    7.90%       156.46    3 years           RENT   \n",
       "\n",
       "   annual_inc verification_status  loan_status pymnt_plan         purpose  \\\n",
       "0     24000.0            Verified            1          n     credit_card   \n",
       "1     30000.0     Source Verified            0          n             car   \n",
       "2     12252.0        Not Verified            1          n  small_business   \n",
       "3     49200.0     Source Verified            1          n           other   \n",
       "5     36000.0     Source Verified            1          n         wedding   \n",
       "\n",
       "                                   title addr_state    dti  delinq_2yrs  \\\n",
       "0                               Computer         AZ  27.65          0.0   \n",
       "1                                   bike         GA   1.00          0.0   \n",
       "2                   real estate business         IL   8.72          0.0   \n",
       "3                               personel         CA  20.00          0.0   \n",
       "5  My wedding loan I promise to pay back         AZ  11.20          0.0   \n",
       "\n",
       "  earliest_cr_line  inq_last_6mths  open_acc  pub_rec  revol_bal revol_util  \\\n",
       "0         Jan-1985             1.0       3.0      0.0    13648.0      83.7%   \n",
       "1         Apr-1999             5.0       3.0      0.0     1687.0       9.4%   \n",
       "2         Nov-2001             2.0       2.0      0.0     2956.0      98.5%   \n",
       "3         Feb-1996             1.0      10.0      0.0     5598.0        21%   \n",
       "5         Nov-2004             3.0       9.0      0.0     7963.0      28.3%   \n",
       "\n",
       "   total_acc initial_list_status last_credit_pull_d  \\\n",
       "0        9.0                   f           Jun-2016   \n",
       "1        4.0                   f           Sep-2013   \n",
       "2       10.0                   f           Jun-2016   \n",
       "3       37.0                   f           Apr-2016   \n",
       "5       12.0                   f           Jan-2016   \n",
       "\n",
       "   collections_12_mths_ex_med  policy_code application_type  acc_now_delinq  \\\n",
       "0                         0.0          1.0       INDIVIDUAL             0.0   \n",
       "1                         0.0          1.0       INDIVIDUAL             0.0   \n",
       "2                         0.0          1.0       INDIVIDUAL             0.0   \n",
       "3                         0.0          1.0       INDIVIDUAL             0.0   \n",
       "5                         0.0          1.0       INDIVIDUAL             0.0   \n",
       "\n",
       "   chargeoff_within_12_mths  delinq_amnt  pub_rec_bankruptcies  tax_liens  \n",
       "0                       0.0          0.0                   0.0        0.0  \n",
       "1                       0.0          0.0                   0.0        0.0  \n",
       "2                       0.0          0.0                   0.0        0.0  \n",
       "3                       0.0          0.0                   0.0        0.0  \n",
       "5                       0.0          0.0                   0.0        0.0  "
      ]
     },
     "execution_count": 8,
     "metadata": {},
     "output_type": "execute_result"
    }
   ],
   "source": [
    "loans_2007.head()"
   ]
  },
  {
   "cell_type": "markdown",
   "metadata": {},
   "source": [
    "Any column that contains only one unique value should be removed. They are not useful for the model since they don't add any information to each loan application."
   ]
  },
  {
   "cell_type": "code",
   "execution_count": 9,
   "metadata": {},
   "outputs": [
    {
     "name": "stdout",
     "output_type": "stream",
     "text": [
      "['pymnt_plan', 'initial_list_status', 'collections_12_mths_ex_med', 'policy_code', 'application_type', 'acc_now_delinq', 'chargeoff_within_12_mths', 'delinq_amnt', 'tax_liens']\n"
     ]
    }
   ],
   "source": [
    "drop_columns_4 = []\n",
    "\n",
    "for column in loans_2007.columns:\n",
    "    non_null = loans_2007[column].dropna()\n",
    "    unique_non_null = non_null.unique()\n",
    "    num_true_unique = len(unique_non_null)\n",
    "    if num_true_unique == 1:\n",
    "        drop_columns_4.append(column)\n",
    "        \n",
    "loans_2007 = loans_2007.drop(drop_columns_4, axis = 1)\n",
    "\n",
    "print(drop_columns_4)"
   ]
  },
  {
   "cell_type": "markdown",
   "metadata": {},
   "source": [
    "## Preparing The Features"
   ]
  },
  {
   "cell_type": "markdown",
   "metadata": {},
   "source": [
    "Mathematics underlying most machine learning models assumes that the data is numerical and contains no missing values. To reinforce this requirement, scikit-learn will return an error if you try to train a model using data that contain missing values or non-numeric values when working with models like linear regression and logistic regression.\n",
    "\n",
    "In this section the data is prepared for machine learning by focusing on handling missing values, converting categorical columns to numeric columns, and removing any other extraneous columns that are encountered throughout this process."
   ]
  },
  {
   "cell_type": "code",
   "execution_count": 10,
   "metadata": {},
   "outputs": [
    {
     "name": "stdout",
     "output_type": "stream",
     "text": [
      "loan_amnt                  0\n",
      "term                       0\n",
      "int_rate                   0\n",
      "installment                0\n",
      "emp_length              1036\n",
      "home_ownership             0\n",
      "annual_inc                 0\n",
      "verification_status        0\n",
      "loan_status                0\n",
      "purpose                    0\n",
      "title                     11\n",
      "addr_state                 0\n",
      "dti                        0\n",
      "delinq_2yrs                0\n",
      "earliest_cr_line           0\n",
      "inq_last_6mths             0\n",
      "open_acc                   0\n",
      "pub_rec                    0\n",
      "revol_bal                  0\n",
      "revol_util                50\n",
      "total_acc                  0\n",
      "last_credit_pull_d         2\n",
      "pub_rec_bankruptcies     697\n",
      "dtype: int64\n"
     ]
    }
   ],
   "source": [
    "loans = loans_2007\n",
    "\n",
    "\n",
    "null_counts = loans.isnull().sum()\n",
    "print(null_counts)"
   ]
  },
  {
   "cell_type": "markdown",
   "metadata": {},
   "source": [
    "- emp_length              1036\n",
    "- title                     11\n",
    "- revol_util                50\n",
    "- last_credit_pull_d         2\n",
    "- pub_rec_bankruptcies     697\n",
    "\n",
    "The column emp_length represents the employment length of the borrower, which is frequently used to assess how risky a potential loan is. So this column gives useful information and should be kept, even though the rows with missing values could be dropped.\n",
    "\n",
    "The column pub_rec_bankruptcies has the 94% of its values in the same category, so it won't have much predictive value. Therefore, it may be completely dropped."
   ]
  },
  {
   "cell_type": "code",
   "execution_count": 11,
   "metadata": {},
   "outputs": [
    {
     "name": "stdout",
     "output_type": "stream",
     "text": [
      "0.0    0.939438\n",
      "1.0    0.042456\n",
      "NaN    0.017978\n",
      "2.0    0.000129\n",
      "Name: pub_rec_bankruptcies, dtype: float64\n"
     ]
    }
   ],
   "source": [
    "print(loans.pub_rec_bankruptcies.value_counts(normalize=True, dropna=False))"
   ]
  },
  {
   "cell_type": "code",
   "execution_count": 12,
   "metadata": {},
   "outputs": [
    {
     "name": "stdout",
     "output_type": "stream",
     "text": [
      "object     11\n",
      "float64    10\n",
      "int64       1\n",
      "dtype: int64\n"
     ]
    }
   ],
   "source": [
    "loans = loans.drop(['pub_rec_bankruptcies'], axis = 1)\n",
    "loans = loans.dropna()\n",
    "print(loans.dtypes.value_counts())"
   ]
  },
  {
   "cell_type": "markdown",
   "metadata": {},
   "source": [
    "### Processing Object Type Columns\n",
    "\n",
    "The columns with object type should be converted to numerical data types."
   ]
  },
  {
   "cell_type": "code",
   "execution_count": 13,
   "metadata": {},
   "outputs": [
    {
     "name": "stdout",
     "output_type": "stream",
     "text": [
      "term                     36 months\n",
      "int_rate                    10.65%\n",
      "emp_length               10+ years\n",
      "home_ownership                RENT\n",
      "verification_status       Verified\n",
      "purpose                credit_card\n",
      "title                     Computer\n",
      "addr_state                      AZ\n",
      "earliest_cr_line          Jan-1985\n",
      "revol_util                   83.7%\n",
      "last_credit_pull_d        Jun-2016\n",
      "Name: 0, dtype: object\n"
     ]
    }
   ],
   "source": [
    "object_columns_df = loans.select_dtypes(include=['object'])\n",
    "\n",
    "print(object_columns_df.iloc[0])"
   ]
  },
  {
   "cell_type": "markdown",
   "metadata": {},
   "source": [
    "#### Categorical Columns\n",
    "\n",
    "- home_ownership: home ownership status, can only be 1 of 4 categorical values according to the data dictionary,\n",
    "- verification_status: indicates if income was verified by Lending Club,\n",
    "- emp_length: number of years the borrower was employed upon time of application,\n",
    "- term: number of payments on the loan, either 36 or 60,\n",
    "- addr_state: borrower's state of residence,\n",
    "- purpose: a category provided by the borrower for the loan request,\n",
    "- title: loan title provided by the borrower,\n",
    "\n",
    "\n",
    "Based on the first row's values for purpose and title, it seems like these columns could reflect the same information. It needs exploration of the unique value counts separately to confirm if this is true."
   ]
  },
  {
   "cell_type": "markdown",
   "metadata": {},
   "source": [
    "#### Numeric Columns that need to be Converted\n",
    "\n",
    "- int_rate: interest rate of the loan in %,\n",
    "- revol_util: revolving line utilization rate or the amount of credit the borrower is using relative to all available credit."
   ]
  },
  {
   "cell_type": "markdown",
   "metadata": {},
   "source": [
    "#### Other Columns to be dropped\n",
    "Some of the columns contain date values that would require a good amount of feature engineering for them to be potentially useful:\n",
    "\n",
    "- earliest_cr_line: The month the borrower's earliest reported credit line was opened,\n",
    "- last_credit_pull_d: The most recent month Lending Club pulled credit for this loan."
   ]
  },
  {
   "cell_type": "code",
   "execution_count": 14,
   "metadata": {},
   "outputs": [
    {
     "name": "stdout",
     "output_type": "stream",
     "text": [
      "-----home_ownership-----\n",
      "RENT        18112\n",
      "MORTGAGE    16686\n",
      "OWN          2778\n",
      "OTHER          96\n",
      "NONE            3\n",
      "Name: home_ownership, dtype: int64\n",
      "------------\n",
      "\n",
      "\n",
      "-----verification_status-----\n",
      "Not Verified       16281\n",
      "Verified           11856\n",
      "Source Verified     9538\n",
      "Name: verification_status, dtype: int64\n",
      "------------\n",
      "\n",
      "\n",
      "-----emp_length-----\n",
      "10+ years    8545\n",
      "< 1 year     4513\n",
      "2 years      4303\n",
      "3 years      4022\n",
      "4 years      3353\n",
      "5 years      3202\n",
      "1 year       3176\n",
      "6 years      2177\n",
      "7 years      1714\n",
      "8 years      1442\n",
      "9 years      1228\n",
      "Name: emp_length, dtype: int64\n",
      "------------\n",
      "\n",
      "\n",
      "-----term-----\n",
      " 36 months    28234\n",
      " 60 months     9441\n",
      "Name: term, dtype: int64\n",
      "------------\n",
      "\n",
      "\n",
      "-----addr_state-----\n",
      "CA    6776\n",
      "NY    3614\n",
      "FL    2704\n",
      "TX    2613\n",
      "NJ    1776\n",
      "IL    1447\n",
      "PA    1442\n",
      "VA    1347\n",
      "GA    1323\n",
      "MA    1272\n",
      "OH    1149\n",
      "MD    1008\n",
      "AZ     807\n",
      "WA     788\n",
      "CO     748\n",
      "NC     729\n",
      "CT     711\n",
      "MI     678\n",
      "MO     648\n",
      "MN     581\n",
      "NV     466\n",
      "SC     454\n",
      "WI     427\n",
      "OR     422\n",
      "AL     420\n",
      "LA     420\n",
      "KY     311\n",
      "OK     285\n",
      "UT     249\n",
      "KS     249\n",
      "AR     229\n",
      "DC     209\n",
      "RI     194\n",
      "NM     180\n",
      "WV     164\n",
      "HI     162\n",
      "NH     157\n",
      "DE     110\n",
      "MT      77\n",
      "AK      76\n",
      "WY      76\n",
      "SD      60\n",
      "VT      53\n",
      "MS      19\n",
      "TN      17\n",
      "IN       9\n",
      "ID       6\n",
      "IA       5\n",
      "NE       5\n",
      "ME       3\n",
      "Name: addr_state, dtype: int64\n",
      "------------\n",
      "\n",
      "\n"
     ]
    }
   ],
   "source": [
    "cols = ['home_ownership', 'verification_status', 'emp_length', 'term', 'addr_state']\n",
    "\n",
    "for col in cols:\n",
    "    print('-----{}-----'.format(col))\n",
    "    print(loans[col].value_counts())\n",
    "    print('------------')\n",
    "    print('\\n')"
   ]
  },
  {
   "cell_type": "markdown",
   "metadata": {},
   "source": [
    "The addr_state column contains many discrete values, and 49 dummy variable columns would need to be added to use it for classification. This would make the dataframe much larger and could slow down how quickly the code runs. This columns should be removed from consideration."
   ]
  },
  {
   "cell_type": "markdown",
   "metadata": {},
   "source": [
    "##### Exploring the difference between title and purpose columns"
   ]
  },
  {
   "cell_type": "code",
   "execution_count": 15,
   "metadata": {},
   "outputs": [
    {
     "name": "stdout",
     "output_type": "stream",
     "text": [
      "18881\n",
      "14\n"
     ]
    }
   ],
   "source": [
    "print(len(loans['title'].value_counts()))\n",
    "print(len(loans['purpose'].value_counts()))"
   ]
  },
  {
   "cell_type": "code",
   "execution_count": 16,
   "metadata": {},
   "outputs": [
    {
     "name": "stdout",
     "output_type": "stream",
     "text": [
      "debt_consolidation    17751\n",
      "credit_card            4911\n",
      "other                  3711\n",
      "home_improvement       2808\n",
      "major_purchase         2083\n",
      "small_business         1719\n",
      "car                    1459\n",
      "wedding                 916\n",
      "medical                 655\n",
      "moving                  552\n",
      "house                   356\n",
      "vacation                348\n",
      "educational             312\n",
      "renewable_energy         94\n",
      "Name: purpose, dtype: int64\n"
     ]
    }
   ],
   "source": [
    "\n",
    "print(loans['purpose'].value_counts())"
   ]
  },
  {
   "cell_type": "markdown",
   "metadata": {},
   "source": [
    "It seems that purpose and title have overlapping information, but purpose contains few discrete values that are more useful for our classification."
   ]
  },
  {
   "cell_type": "markdown",
   "metadata": {},
   "source": [
    "##### Drop the non useful columns "
   ]
  },
  {
   "cell_type": "code",
   "execution_count": 17,
   "metadata": {},
   "outputs": [],
   "source": [
    "loans = loans.drop(['last_credit_pull_d','addr_state','title','earliest_cr_line'], axis = 1)"
   ]
  },
  {
   "cell_type": "markdown",
   "metadata": {},
   "source": [
    "##### Convert int_rate and revol_util to float data type after removing the % symbol"
   ]
  },
  {
   "cell_type": "code",
   "execution_count": 18,
   "metadata": {},
   "outputs": [],
   "source": [
    "loans['int_rate'] = loans['int_rate'].str.rstrip('%').astype('float')\n",
    "\n",
    "loans['revol_util'] = loans['revol_util'].str.rstrip('%').astype('float')"
   ]
  },
  {
   "cell_type": "markdown",
   "metadata": {},
   "source": [
    "##### Clean the emp_length column\n",
    "Erring in the side of caution with the extreme points:\n",
    "\n",
    "- 10+ years is categorized as 10 \n",
    "- < 1 year and n/a are categorized as 0"
   ]
  },
  {
   "cell_type": "code",
   "execution_count": 19,
   "metadata": {},
   "outputs": [],
   "source": [
    "mapping_dict = {\n",
    "    \"emp_length\": {\n",
    "        \"10+ years\": 10,\n",
    "        \"9 years\": 9,\n",
    "        \"8 years\": 8,\n",
    "        \"7 years\": 7,\n",
    "        \"6 years\": 6,\n",
    "        \"5 years\": 5,\n",
    "        \"4 years\": 4,\n",
    "        \"3 years\": 3,\n",
    "        \"2 years\": 2,\n",
    "        \"1 year\": 1,\n",
    "        \"< 1 year\": 0,\n",
    "        \"n/a\": 0\n",
    "    }\n",
    "}\n",
    "loans = loans.replace(mapping_dict)"
   ]
  },
  {
   "cell_type": "markdown",
   "metadata": {},
   "source": [
    "##### Encode home_ownership, verification_status, purpose, and term columns as dummy"
   ]
  },
  {
   "cell_type": "code",
   "execution_count": 20,
   "metadata": {},
   "outputs": [],
   "source": [
    "dummy_df = pd.get_dummies(loans[['home_ownership','verification_status','purpose','term']])\n",
    "\n",
    "loans = pd.concat([loans, dummy_df], axis=1)\n",
    "\n",
    "loans = loans.drop(['home_ownership','verification_status','purpose','term'], axis=1)"
   ]
  },
  {
   "cell_type": "code",
   "execution_count": 21,
   "metadata": {},
   "outputs": [
    {
     "data": {
      "text/html": [
       "<div>\n",
       "<style scoped>\n",
       "    .dataframe tbody tr th:only-of-type {\n",
       "        vertical-align: middle;\n",
       "    }\n",
       "\n",
       "    .dataframe tbody tr th {\n",
       "        vertical-align: top;\n",
       "    }\n",
       "\n",
       "    .dataframe thead th {\n",
       "        text-align: right;\n",
       "    }\n",
       "</style>\n",
       "<table border=\"1\" class=\"dataframe\">\n",
       "  <thead>\n",
       "    <tr style=\"text-align: right;\">\n",
       "      <th></th>\n",
       "      <th>loan_amnt</th>\n",
       "      <th>int_rate</th>\n",
       "      <th>installment</th>\n",
       "      <th>emp_length</th>\n",
       "      <th>annual_inc</th>\n",
       "      <th>loan_status</th>\n",
       "      <th>dti</th>\n",
       "      <th>delinq_2yrs</th>\n",
       "      <th>inq_last_6mths</th>\n",
       "      <th>open_acc</th>\n",
       "      <th>pub_rec</th>\n",
       "      <th>revol_bal</th>\n",
       "      <th>revol_util</th>\n",
       "      <th>total_acc</th>\n",
       "      <th>home_ownership_MORTGAGE</th>\n",
       "      <th>home_ownership_NONE</th>\n",
       "      <th>home_ownership_OTHER</th>\n",
       "      <th>home_ownership_OWN</th>\n",
       "      <th>home_ownership_RENT</th>\n",
       "      <th>verification_status_Not Verified</th>\n",
       "      <th>verification_status_Source Verified</th>\n",
       "      <th>verification_status_Verified</th>\n",
       "      <th>purpose_car</th>\n",
       "      <th>purpose_credit_card</th>\n",
       "      <th>purpose_debt_consolidation</th>\n",
       "      <th>purpose_educational</th>\n",
       "      <th>purpose_home_improvement</th>\n",
       "      <th>purpose_house</th>\n",
       "      <th>purpose_major_purchase</th>\n",
       "      <th>purpose_medical</th>\n",
       "      <th>purpose_moving</th>\n",
       "      <th>purpose_other</th>\n",
       "      <th>purpose_renewable_energy</th>\n",
       "      <th>purpose_small_business</th>\n",
       "      <th>purpose_vacation</th>\n",
       "      <th>purpose_wedding</th>\n",
       "      <th>term_ 36 months</th>\n",
       "      <th>term_ 60 months</th>\n",
       "    </tr>\n",
       "  </thead>\n",
       "  <tbody>\n",
       "    <tr>\n",
       "      <th>0</th>\n",
       "      <td>5000.0</td>\n",
       "      <td>10.65</td>\n",
       "      <td>162.87</td>\n",
       "      <td>10</td>\n",
       "      <td>24000.0</td>\n",
       "      <td>1</td>\n",
       "      <td>27.65</td>\n",
       "      <td>0.0</td>\n",
       "      <td>1.0</td>\n",
       "      <td>3.0</td>\n",
       "      <td>0.0</td>\n",
       "      <td>13648.0</td>\n",
       "      <td>83.7</td>\n",
       "      <td>9.0</td>\n",
       "      <td>0</td>\n",
       "      <td>0</td>\n",
       "      <td>0</td>\n",
       "      <td>0</td>\n",
       "      <td>1</td>\n",
       "      <td>0</td>\n",
       "      <td>0</td>\n",
       "      <td>1</td>\n",
       "      <td>0</td>\n",
       "      <td>1</td>\n",
       "      <td>0</td>\n",
       "      <td>0</td>\n",
       "      <td>0</td>\n",
       "      <td>0</td>\n",
       "      <td>0</td>\n",
       "      <td>0</td>\n",
       "      <td>0</td>\n",
       "      <td>0</td>\n",
       "      <td>0</td>\n",
       "      <td>0</td>\n",
       "      <td>0</td>\n",
       "      <td>0</td>\n",
       "      <td>1</td>\n",
       "      <td>0</td>\n",
       "    </tr>\n",
       "    <tr>\n",
       "      <th>1</th>\n",
       "      <td>2500.0</td>\n",
       "      <td>15.27</td>\n",
       "      <td>59.83</td>\n",
       "      <td>0</td>\n",
       "      <td>30000.0</td>\n",
       "      <td>0</td>\n",
       "      <td>1.00</td>\n",
       "      <td>0.0</td>\n",
       "      <td>5.0</td>\n",
       "      <td>3.0</td>\n",
       "      <td>0.0</td>\n",
       "      <td>1687.0</td>\n",
       "      <td>9.4</td>\n",
       "      <td>4.0</td>\n",
       "      <td>0</td>\n",
       "      <td>0</td>\n",
       "      <td>0</td>\n",
       "      <td>0</td>\n",
       "      <td>1</td>\n",
       "      <td>0</td>\n",
       "      <td>1</td>\n",
       "      <td>0</td>\n",
       "      <td>1</td>\n",
       "      <td>0</td>\n",
       "      <td>0</td>\n",
       "      <td>0</td>\n",
       "      <td>0</td>\n",
       "      <td>0</td>\n",
       "      <td>0</td>\n",
       "      <td>0</td>\n",
       "      <td>0</td>\n",
       "      <td>0</td>\n",
       "      <td>0</td>\n",
       "      <td>0</td>\n",
       "      <td>0</td>\n",
       "      <td>0</td>\n",
       "      <td>0</td>\n",
       "      <td>1</td>\n",
       "    </tr>\n",
       "    <tr>\n",
       "      <th>2</th>\n",
       "      <td>2400.0</td>\n",
       "      <td>15.96</td>\n",
       "      <td>84.33</td>\n",
       "      <td>10</td>\n",
       "      <td>12252.0</td>\n",
       "      <td>1</td>\n",
       "      <td>8.72</td>\n",
       "      <td>0.0</td>\n",
       "      <td>2.0</td>\n",
       "      <td>2.0</td>\n",
       "      <td>0.0</td>\n",
       "      <td>2956.0</td>\n",
       "      <td>98.5</td>\n",
       "      <td>10.0</td>\n",
       "      <td>0</td>\n",
       "      <td>0</td>\n",
       "      <td>0</td>\n",
       "      <td>0</td>\n",
       "      <td>1</td>\n",
       "      <td>1</td>\n",
       "      <td>0</td>\n",
       "      <td>0</td>\n",
       "      <td>0</td>\n",
       "      <td>0</td>\n",
       "      <td>0</td>\n",
       "      <td>0</td>\n",
       "      <td>0</td>\n",
       "      <td>0</td>\n",
       "      <td>0</td>\n",
       "      <td>0</td>\n",
       "      <td>0</td>\n",
       "      <td>0</td>\n",
       "      <td>0</td>\n",
       "      <td>1</td>\n",
       "      <td>0</td>\n",
       "      <td>0</td>\n",
       "      <td>1</td>\n",
       "      <td>0</td>\n",
       "    </tr>\n",
       "    <tr>\n",
       "      <th>3</th>\n",
       "      <td>10000.0</td>\n",
       "      <td>13.49</td>\n",
       "      <td>339.31</td>\n",
       "      <td>10</td>\n",
       "      <td>49200.0</td>\n",
       "      <td>1</td>\n",
       "      <td>20.00</td>\n",
       "      <td>0.0</td>\n",
       "      <td>1.0</td>\n",
       "      <td>10.0</td>\n",
       "      <td>0.0</td>\n",
       "      <td>5598.0</td>\n",
       "      <td>21.0</td>\n",
       "      <td>37.0</td>\n",
       "      <td>0</td>\n",
       "      <td>0</td>\n",
       "      <td>0</td>\n",
       "      <td>0</td>\n",
       "      <td>1</td>\n",
       "      <td>0</td>\n",
       "      <td>1</td>\n",
       "      <td>0</td>\n",
       "      <td>0</td>\n",
       "      <td>0</td>\n",
       "      <td>0</td>\n",
       "      <td>0</td>\n",
       "      <td>0</td>\n",
       "      <td>0</td>\n",
       "      <td>0</td>\n",
       "      <td>0</td>\n",
       "      <td>0</td>\n",
       "      <td>1</td>\n",
       "      <td>0</td>\n",
       "      <td>0</td>\n",
       "      <td>0</td>\n",
       "      <td>0</td>\n",
       "      <td>1</td>\n",
       "      <td>0</td>\n",
       "    </tr>\n",
       "    <tr>\n",
       "      <th>5</th>\n",
       "      <td>5000.0</td>\n",
       "      <td>7.90</td>\n",
       "      <td>156.46</td>\n",
       "      <td>3</td>\n",
       "      <td>36000.0</td>\n",
       "      <td>1</td>\n",
       "      <td>11.20</td>\n",
       "      <td>0.0</td>\n",
       "      <td>3.0</td>\n",
       "      <td>9.0</td>\n",
       "      <td>0.0</td>\n",
       "      <td>7963.0</td>\n",
       "      <td>28.3</td>\n",
       "      <td>12.0</td>\n",
       "      <td>0</td>\n",
       "      <td>0</td>\n",
       "      <td>0</td>\n",
       "      <td>0</td>\n",
       "      <td>1</td>\n",
       "      <td>0</td>\n",
       "      <td>1</td>\n",
       "      <td>0</td>\n",
       "      <td>0</td>\n",
       "      <td>0</td>\n",
       "      <td>0</td>\n",
       "      <td>0</td>\n",
       "      <td>0</td>\n",
       "      <td>0</td>\n",
       "      <td>0</td>\n",
       "      <td>0</td>\n",
       "      <td>0</td>\n",
       "      <td>0</td>\n",
       "      <td>0</td>\n",
       "      <td>0</td>\n",
       "      <td>0</td>\n",
       "      <td>1</td>\n",
       "      <td>1</td>\n",
       "      <td>0</td>\n",
       "    </tr>\n",
       "  </tbody>\n",
       "</table>\n",
       "</div>"
      ],
      "text/plain": [
       "   loan_amnt  int_rate  installment  emp_length  annual_inc  loan_status  \\\n",
       "0     5000.0     10.65       162.87          10     24000.0            1   \n",
       "1     2500.0     15.27        59.83           0     30000.0            0   \n",
       "2     2400.0     15.96        84.33          10     12252.0            1   \n",
       "3    10000.0     13.49       339.31          10     49200.0            1   \n",
       "5     5000.0      7.90       156.46           3     36000.0            1   \n",
       "\n",
       "     dti  delinq_2yrs  inq_last_6mths  open_acc  pub_rec  revol_bal  \\\n",
       "0  27.65          0.0             1.0       3.0      0.0    13648.0   \n",
       "1   1.00          0.0             5.0       3.0      0.0     1687.0   \n",
       "2   8.72          0.0             2.0       2.0      0.0     2956.0   \n",
       "3  20.00          0.0             1.0      10.0      0.0     5598.0   \n",
       "5  11.20          0.0             3.0       9.0      0.0     7963.0   \n",
       "\n",
       "   revol_util  total_acc  home_ownership_MORTGAGE  home_ownership_NONE  \\\n",
       "0        83.7        9.0                        0                    0   \n",
       "1         9.4        4.0                        0                    0   \n",
       "2        98.5       10.0                        0                    0   \n",
       "3        21.0       37.0                        0                    0   \n",
       "5        28.3       12.0                        0                    0   \n",
       "\n",
       "   home_ownership_OTHER  home_ownership_OWN  home_ownership_RENT  \\\n",
       "0                     0                   0                    1   \n",
       "1                     0                   0                    1   \n",
       "2                     0                   0                    1   \n",
       "3                     0                   0                    1   \n",
       "5                     0                   0                    1   \n",
       "\n",
       "   verification_status_Not Verified  verification_status_Source Verified  \\\n",
       "0                                 0                                    0   \n",
       "1                                 0                                    1   \n",
       "2                                 1                                    0   \n",
       "3                                 0                                    1   \n",
       "5                                 0                                    1   \n",
       "\n",
       "   verification_status_Verified  purpose_car  purpose_credit_card  \\\n",
       "0                             1            0                    1   \n",
       "1                             0            1                    0   \n",
       "2                             0            0                    0   \n",
       "3                             0            0                    0   \n",
       "5                             0            0                    0   \n",
       "\n",
       "   purpose_debt_consolidation  purpose_educational  purpose_home_improvement  \\\n",
       "0                           0                    0                         0   \n",
       "1                           0                    0                         0   \n",
       "2                           0                    0                         0   \n",
       "3                           0                    0                         0   \n",
       "5                           0                    0                         0   \n",
       "\n",
       "   purpose_house  purpose_major_purchase  purpose_medical  purpose_moving  \\\n",
       "0              0                       0                0               0   \n",
       "1              0                       0                0               0   \n",
       "2              0                       0                0               0   \n",
       "3              0                       0                0               0   \n",
       "5              0                       0                0               0   \n",
       "\n",
       "   purpose_other  purpose_renewable_energy  purpose_small_business  \\\n",
       "0              0                         0                       0   \n",
       "1              0                         0                       0   \n",
       "2              0                         0                       1   \n",
       "3              1                         0                       0   \n",
       "5              0                         0                       0   \n",
       "\n",
       "   purpose_vacation  purpose_wedding  term_ 36 months  term_ 60 months  \n",
       "0                 0                0                1                0  \n",
       "1                 0                0                0                1  \n",
       "2                 0                0                1                0  \n",
       "3                 0                0                1                0  \n",
       "5                 0                1                1                0  "
      ]
     },
     "execution_count": 21,
     "metadata": {},
     "output_type": "execute_result"
    }
   ],
   "source": [
    "loans.head()"
   ]
  },
  {
   "cell_type": "markdown",
   "metadata": {},
   "source": [
    "## Making Predictions"
   ]
  },
  {
   "cell_type": "markdown",
   "metadata": {},
   "source": [
    "As we prepared the data, we removed columns that had data leakage issues, contained redundant information, or required additional processing to turn into useful features. We cleaned features that had formatting issues and converted categorical columns to dummy variables."
   ]
  },
  {
   "cell_type": "markdown",
   "metadata": {},
   "source": [
    "It was noted that there's a class imbalance in our target column, loan_status. There are about 6 times as many loans that were paid off on time (positive case, label of 1) than those that weren't (negative case, label of 0). Imbalances can cause issues with many machine learning algorithms, where they appear to have high accuracy, but actually aren't learning from the training data. Due to its potential to cause issues, we need to keep the class imbalance in mind as we build machine learning models."
   ]
  },
  {
   "cell_type": "code",
   "execution_count": 22,
   "metadata": {},
   "outputs": [
    {
     "name": "stdout",
     "output_type": "stream",
     "text": [
      "<class 'pandas.core.frame.DataFrame'>\n",
      "Int64Index: 37675 entries, 0 to 39785\n",
      "Data columns (total 38 columns):\n",
      " #   Column                               Non-Null Count  Dtype  \n",
      "---  ------                               --------------  -----  \n",
      " 0   loan_amnt                            37675 non-null  float64\n",
      " 1   int_rate                             37675 non-null  float64\n",
      " 2   installment                          37675 non-null  float64\n",
      " 3   emp_length                           37675 non-null  int64  \n",
      " 4   annual_inc                           37675 non-null  float64\n",
      " 5   loan_status                          37675 non-null  int64  \n",
      " 6   dti                                  37675 non-null  float64\n",
      " 7   delinq_2yrs                          37675 non-null  float64\n",
      " 8   inq_last_6mths                       37675 non-null  float64\n",
      " 9   open_acc                             37675 non-null  float64\n",
      " 10  pub_rec                              37675 non-null  float64\n",
      " 11  revol_bal                            37675 non-null  float64\n",
      " 12  revol_util                           37675 non-null  float64\n",
      " 13  total_acc                            37675 non-null  float64\n",
      " 14  home_ownership_MORTGAGE              37675 non-null  uint8  \n",
      " 15  home_ownership_NONE                  37675 non-null  uint8  \n",
      " 16  home_ownership_OTHER                 37675 non-null  uint8  \n",
      " 17  home_ownership_OWN                   37675 non-null  uint8  \n",
      " 18  home_ownership_RENT                  37675 non-null  uint8  \n",
      " 19  verification_status_Not Verified     37675 non-null  uint8  \n",
      " 20  verification_status_Source Verified  37675 non-null  uint8  \n",
      " 21  verification_status_Verified         37675 non-null  uint8  \n",
      " 22  purpose_car                          37675 non-null  uint8  \n",
      " 23  purpose_credit_card                  37675 non-null  uint8  \n",
      " 24  purpose_debt_consolidation           37675 non-null  uint8  \n",
      " 25  purpose_educational                  37675 non-null  uint8  \n",
      " 26  purpose_home_improvement             37675 non-null  uint8  \n",
      " 27  purpose_house                        37675 non-null  uint8  \n",
      " 28  purpose_major_purchase               37675 non-null  uint8  \n",
      " 29  purpose_medical                      37675 non-null  uint8  \n",
      " 30  purpose_moving                       37675 non-null  uint8  \n",
      " 31  purpose_other                        37675 non-null  uint8  \n",
      " 32  purpose_renewable_energy             37675 non-null  uint8  \n",
      " 33  purpose_small_business               37675 non-null  uint8  \n",
      " 34  purpose_vacation                     37675 non-null  uint8  \n",
      " 35  purpose_wedding                      37675 non-null  uint8  \n",
      " 36  term_ 36 months                      37675 non-null  uint8  \n",
      " 37  term_ 60 months                      37675 non-null  uint8  \n",
      "dtypes: float64(12), int64(2), uint8(24)\n",
      "memory usage: 5.2 MB\n"
     ]
    }
   ],
   "source": [
    "loans.info()"
   ]
  },
  {
   "cell_type": "markdown",
   "metadata": {},
   "source": [
    "The goal is to predict if a borrower will pay off their loan on time or not. This is a binary classification problem, with the values of loan_status column being 0 or 1."
   ]
  },
  {
   "cell_type": "markdown",
   "metadata": {},
   "source": [
    "### Error Metric "
   ]
  },
  {
   "cell_type": "markdown",
   "metadata": {},
   "source": [
    "In this case, we're primarily concerned with false positives and false negatives. Both of these are different types of misclassifications. With a false positive, we predict that a loan will be paid off on time, but it actually isn't. This costs us money, since we fund loans that lose us money. With a false negative, we predict that a loan won't be paid off on time, but it actually would be paid off on time. This loses us potential money, since we didn't fund a loan that actually would have been paid off.\n",
    "\n",
    "| loan_status | prediction | error type     |\n",
    "|-------------|------------|----------------|\n",
    "| 0           | 1          | False Positive |\n",
    "| 1           | 1          | True Positive  |\n",
    "| 0           | 0          | True Negative  |\n",
    "| 1           | 0          | False Negative |\n",
    "\n",
    "Since we're viewing this problem from the standpoint of a conservative investor, we need to treat false positives differently than false negatives. A conservative investor would want to minimize risk and avoid false positives as much as possible. They'd be more secure with missing out on opportunities (false negatives) than they would be with funding a risky loan (false positives)."
   ]
  },
  {
   "cell_type": "markdown",
   "metadata": {},
   "source": [
    "Due to the class imbalance, there is a high risk of losing money. There are 6 times more paid off loans than charged off loans. This means that simply giving a number 1 to all the loans, the prediction would be 85.7% accurate.  Let's say we loan out 1000 dollars on average to each of 7 borrowers, one of them will not pay back. Each borrower pays us 10% interest back. We will make a projected profit of 100 dollars on each loan. WE end up losing 400 $."
   ]
  },
  {
   "cell_type": "markdown",
   "metadata": {},
   "source": [
    "The metric should optimize for:\n",
    "\n",
    "- High recall (True Positive Rate): \"the percentage of the loans that shouldn't be funded that I would fund\".\n",
    "- Low Fall-Out (False Positive Rate) : \"the percentage of loans that should be funded that I would fund\".\n",
    "\n",
    "$FPR = \\cfrac{False Positives}{False Positives + True Negatives}$\n",
    "\n",
    "$TPR = \\cfrac{True Positives}{True Positives + False Negatives}$"
   ]
  },
  {
   "cell_type": "code",
   "execution_count": null,
   "metadata": {},
   "outputs": [],
   "source": []
  },
  {
   "cell_type": "code",
   "execution_count": null,
   "metadata": {},
   "outputs": [],
   "source": []
  },
  {
   "cell_type": "markdown",
   "metadata": {},
   "source": [
    "### Logistic Regression"
   ]
  },
  {
   "cell_type": "markdown",
   "metadata": {},
   "source": [
    "In order to get a realistic depiction of the acccuracy of the model, k-fold cross validation is applied by means of cross_val_predict() function from the sklearn.model_selection package."
   ]
  },
  {
   "cell_type": "code",
   "execution_count": 23,
   "metadata": {},
   "outputs": [
    {
     "name": "stderr",
     "output_type": "stream",
     "text": [
      "C:\\Users\\adrig\\anaconda3\\lib\\site-packages\\sklearn\\linear_model\\_logistic.py:940: ConvergenceWarning: lbfgs failed to converge (status=1):\n",
      "STOP: TOTAL NO. of ITERATIONS REACHED LIMIT.\n",
      "\n",
      "Increase the number of iterations (max_iter) or scale the data as shown in:\n",
      "    https://scikit-learn.org/stable/modules/preprocessing.html\n",
      "Please also refer to the documentation for alternative solver options:\n",
      "    https://scikit-learn.org/stable/modules/linear_model.html#logistic-regression\n",
      "  extra_warning_msg=_LOGISTIC_SOLVER_CONVERGENCE_MSG)\n",
      "C:\\Users\\adrig\\anaconda3\\lib\\site-packages\\sklearn\\linear_model\\_logistic.py:940: ConvergenceWarning: lbfgs failed to converge (status=1):\n",
      "STOP: TOTAL NO. of ITERATIONS REACHED LIMIT.\n",
      "\n",
      "Increase the number of iterations (max_iter) or scale the data as shown in:\n",
      "    https://scikit-learn.org/stable/modules/preprocessing.html\n",
      "Please also refer to the documentation for alternative solver options:\n",
      "    https://scikit-learn.org/stable/modules/linear_model.html#logistic-regression\n",
      "  extra_warning_msg=_LOGISTIC_SOLVER_CONVERGENCE_MSG)\n",
      "C:\\Users\\adrig\\anaconda3\\lib\\site-packages\\ipykernel_launcher.py:16: UserWarning: Boolean Series key will be reindexed to match DataFrame index.\n",
      "  app.launch_new_instance()\n",
      "C:\\Users\\adrig\\anaconda3\\lib\\site-packages\\ipykernel_launcher.py:17: UserWarning: Boolean Series key will be reindexed to match DataFrame index.\n",
      "C:\\Users\\adrig\\anaconda3\\lib\\site-packages\\ipykernel_launcher.py:18: UserWarning: Boolean Series key will be reindexed to match DataFrame index.\n",
      "C:\\Users\\adrig\\anaconda3\\lib\\site-packages\\ipykernel_launcher.py:19: UserWarning: Boolean Series key will be reindexed to match DataFrame index.\n"
     ]
    }
   ],
   "source": [
    "from sklearn.linear_model import LogisticRegression\n",
    "from sklearn.model_selection import cross_val_predict\n",
    "lr = LogisticRegression()\n",
    "\n",
    "features = loans.drop(['loan_status'], axis = 1)\n",
    "target = loans['loan_status']\n",
    "\n",
    "predictions = cross_val_predict(lr, features, target, cv=3)\n",
    "\n",
    "predictions = pd.Series(predictions)\n",
    "\n",
    "tp_filter = (predictions == 1) & (loans['loan_status'] == 1)\n",
    "fn_filter = (predictions == 0) & (loans['loan_status'] == 1)\n",
    "fp_filter = (predictions == 1) & (loans['loan_status'] == 0)\n",
    "tn_filter = (predictions == 0) & (loans['loan_status'] == 0)\n",
    "tp = len(loans[tp_filter])\n",
    "fn = len(loans[fn_filter])\n",
    "fp = len(loans[fp_filter])\n",
    "tn = len(loans[tn_filter])\n",
    "\n",
    "tpr = tp / (tp + fn) \n",
    "\n",
    "fpr = fp / (fp + tn)"
   ]
  },
  {
   "cell_type": "code",
   "execution_count": 24,
   "metadata": {},
   "outputs": [
    {
     "name": "stdout",
     "output_type": "stream",
     "text": [
      "TPR:  0.9983613004719455\n",
      "FPR:  0.9992102665350444\n"
     ]
    }
   ],
   "source": [
    "print('TPR: ', tpr)\n",
    "print('FPR: ', fpr)"
   ]
  },
  {
   "cell_type": "markdown",
   "metadata": {},
   "source": [
    "#### Imbalance in the classes\n",
    "\n",
    "The TPR and FPR values indiucate that the imbalance of classes makes the classifier to maximice accuracy by predicting with the value of the most common class. These values are what we would expect if the model was predicting all ones since almost all the predictions that should be negative are false postitives (FPR is almost equal to 1).\n",
    "\n",
    "One way to solve thius is by penalizing the misclassification of the minority class during the training process (setting parameter class_weight = 'balanced').\n",
    "\n",
    "By setting the class_weight parameter to balanced, the penalty is set to be inversely proportional to the class frequencies. This would mean that for the classifier, correctly classifying a row where loan_status is 0 is 6 times more important than correctly classifying a row where loan_status is 1."
   ]
  },
  {
   "cell_type": "code",
   "execution_count": 30,
   "metadata": {},
   "outputs": [
    {
     "name": "stderr",
     "output_type": "stream",
     "text": [
      "C:\\Users\\adrig\\anaconda3\\lib\\site-packages\\sklearn\\linear_model\\_logistic.py:940: ConvergenceWarning: lbfgs failed to converge (status=1):\n",
      "STOP: TOTAL NO. of ITERATIONS REACHED LIMIT.\n",
      "\n",
      "Increase the number of iterations (max_iter) or scale the data as shown in:\n",
      "    https://scikit-learn.org/stable/modules/preprocessing.html\n",
      "Please also refer to the documentation for alternative solver options:\n",
      "    https://scikit-learn.org/stable/modules/linear_model.html#logistic-regression\n",
      "  extra_warning_msg=_LOGISTIC_SOLVER_CONVERGENCE_MSG)\n",
      "C:\\Users\\adrig\\anaconda3\\lib\\site-packages\\sklearn\\linear_model\\_logistic.py:940: ConvergenceWarning: lbfgs failed to converge (status=1):\n",
      "STOP: TOTAL NO. of ITERATIONS REACHED LIMIT.\n",
      "\n",
      "Increase the number of iterations (max_iter) or scale the data as shown in:\n",
      "    https://scikit-learn.org/stable/modules/preprocessing.html\n",
      "Please also refer to the documentation for alternative solver options:\n",
      "    https://scikit-learn.org/stable/modules/linear_model.html#logistic-regression\n",
      "  extra_warning_msg=_LOGISTIC_SOLVER_CONVERGENCE_MSG)\n"
     ]
    },
    {
     "name": "stdout",
     "output_type": "stream",
     "text": [
      "TPR:  0.5465718405873099\n",
      "FPR:  0.5237907206317868\n"
     ]
    },
    {
     "name": "stderr",
     "output_type": "stream",
     "text": [
      "C:\\Users\\adrig\\anaconda3\\lib\\site-packages\\sklearn\\linear_model\\_logistic.py:940: ConvergenceWarning: lbfgs failed to converge (status=1):\n",
      "STOP: TOTAL NO. of ITERATIONS REACHED LIMIT.\n",
      "\n",
      "Increase the number of iterations (max_iter) or scale the data as shown in:\n",
      "    https://scikit-learn.org/stable/modules/preprocessing.html\n",
      "Please also refer to the documentation for alternative solver options:\n",
      "    https://scikit-learn.org/stable/modules/linear_model.html#logistic-regression\n",
      "  extra_warning_msg=_LOGISTIC_SOLVER_CONVERGENCE_MSG)\n",
      "C:\\Users\\adrig\\anaconda3\\lib\\site-packages\\ipykernel_launcher.py:17: UserWarning: Boolean Series key will be reindexed to match DataFrame index.\n",
      "C:\\Users\\adrig\\anaconda3\\lib\\site-packages\\ipykernel_launcher.py:18: UserWarning: Boolean Series key will be reindexed to match DataFrame index.\n",
      "C:\\Users\\adrig\\anaconda3\\lib\\site-packages\\ipykernel_launcher.py:19: UserWarning: Boolean Series key will be reindexed to match DataFrame index.\n",
      "C:\\Users\\adrig\\anaconda3\\lib\\site-packages\\ipykernel_launcher.py:20: UserWarning: Boolean Series key will be reindexed to match DataFrame index.\n"
     ]
    }
   ],
   "source": [
    "from sklearn.linear_model import LogisticRegression\n",
    "from sklearn.model_selection import cross_val_predict\n",
    "\n",
    "lr = LogisticRegression(class_weight = 'balanced')\n",
    "\n",
    "\n",
    "predictions = cross_val_predict(lr, features, target, cv=3)\n",
    "\n",
    "#Converting to Series objects let's take advantage of boolean filtering and arithmetic operations from pandas\n",
    "predictions = pd.Series(predictions)\n",
    "\n",
    "\n",
    "tp_filter = (predictions == 1) & (loans['loan_status'] == 1)\n",
    "fn_filter = (predictions == 0) & (loans['loan_status'] == 1)\n",
    "fp_filter = (predictions == 1) & (loans['loan_status'] == 0)\n",
    "tn_filter = (predictions == 0) & (loans['loan_status'] == 0)\n",
    "tp = len(loans[tp_filter])\n",
    "fn = len(loans[fn_filter])\n",
    "fp = len(loans[fp_filter])\n",
    "tn = len(loans[tn_filter])\n",
    "\n",
    "tpr = tp / (tp + fn) \n",
    "\n",
    "fpr = fp / (fp + tn)\n",
    "\n",
    "print('TPR: ', tpr)\n",
    "print('FPR: ', fpr)"
   ]
  },
  {
   "cell_type": "markdown",
   "metadata": {},
   "source": [
    "From a conservative investor's standpoint, it's reassuring that the false positive rate is lower, because it means that we'll be able to do a better job at avoiding bad loans than if we funded everything.\n",
    "\n",
    "We can also specify a penalty manually if we want to adjust the rates more. To do this, we need to pass in a dictionary of penalty values to the class_weight parameter.\n",
    "\n",
    "Note that this comes at the expense of true positive rate. While we have fewer false positives, we're also missing opportunities to fund more loans and potentially make more money. Given that we're approaching this as a conservative investor, this strategy makes sense, but it's worth keeping in mind the tradeoffs."
   ]
  },
  {
   "cell_type": "code",
   "execution_count": 31,
   "metadata": {},
   "outputs": [
    {
     "name": "stderr",
     "output_type": "stream",
     "text": [
      "C:\\Users\\adrig\\anaconda3\\lib\\site-packages\\sklearn\\linear_model\\_logistic.py:940: ConvergenceWarning: lbfgs failed to converge (status=1):\n",
      "STOP: TOTAL NO. of ITERATIONS REACHED LIMIT.\n",
      "\n",
      "Increase the number of iterations (max_iter) or scale the data as shown in:\n",
      "    https://scikit-learn.org/stable/modules/preprocessing.html\n",
      "Please also refer to the documentation for alternative solver options:\n",
      "    https://scikit-learn.org/stable/modules/linear_model.html#logistic-regression\n",
      "  extra_warning_msg=_LOGISTIC_SOLVER_CONVERGENCE_MSG)\n"
     ]
    },
    {
     "name": "stdout",
     "output_type": "stream",
     "text": [
      "TPR:  0.16996591504981648\n",
      "FPR:  0.16663376110562686\n"
     ]
    },
    {
     "name": "stderr",
     "output_type": "stream",
     "text": [
      "C:\\Users\\adrig\\anaconda3\\lib\\site-packages\\sklearn\\linear_model\\_logistic.py:940: ConvergenceWarning: lbfgs failed to converge (status=1):\n",
      "STOP: TOTAL NO. of ITERATIONS REACHED LIMIT.\n",
      "\n",
      "Increase the number of iterations (max_iter) or scale the data as shown in:\n",
      "    https://scikit-learn.org/stable/modules/preprocessing.html\n",
      "Please also refer to the documentation for alternative solver options:\n",
      "    https://scikit-learn.org/stable/modules/linear_model.html#logistic-regression\n",
      "  extra_warning_msg=_LOGISTIC_SOLVER_CONVERGENCE_MSG)\n",
      "C:\\Users\\adrig\\anaconda3\\lib\\site-packages\\ipykernel_launcher.py:23: UserWarning: Boolean Series key will be reindexed to match DataFrame index.\n",
      "C:\\Users\\adrig\\anaconda3\\lib\\site-packages\\ipykernel_launcher.py:24: UserWarning: Boolean Series key will be reindexed to match DataFrame index.\n",
      "C:\\Users\\adrig\\anaconda3\\lib\\site-packages\\ipykernel_launcher.py:25: UserWarning: Boolean Series key will be reindexed to match DataFrame index.\n",
      "C:\\Users\\adrig\\anaconda3\\lib\\site-packages\\ipykernel_launcher.py:26: UserWarning: Boolean Series key will be reindexed to match DataFrame index.\n"
     ]
    }
   ],
   "source": [
    "from sklearn.linear_model import LogisticRegression\n",
    "from sklearn.model_selection import cross_val_predict\n",
    "\n",
    "penalty = {\n",
    "    0: 10,\n",
    "    1: 1\n",
    "    \n",
    "}\n",
    "\n",
    "lr = LogisticRegression(class_weight = penalty)\n",
    "\n",
    "\n",
    "predictions = cross_val_predict(lr, features, target, cv=3)\n",
    "\n",
    "#Converting to Series objects let's take advantage of boolean filtering and arithmetic operations from pandas\n",
    "predictions = pd.Series(predictions)\n",
    "\n",
    "\n",
    "tp_filter = (predictions == 1) & (loans['loan_status'] == 1)\n",
    "fn_filter = (predictions == 0) & (loans['loan_status'] == 1)\n",
    "fp_filter = (predictions == 1) & (loans['loan_status'] == 0)\n",
    "tn_filter = (predictions == 0) & (loans['loan_status'] == 0)\n",
    "tp = len(loans[tp_filter])\n",
    "fn = len(loans[fn_filter])\n",
    "fp = len(loans[fp_filter])\n",
    "tn = len(loans[tn_filter])\n",
    "\n",
    "tpr = tp / (tp + fn) \n",
    "\n",
    "fpr = fp / (fp + tn)\n",
    "\n",
    "print('TPR: ', tpr)\n",
    "print('FPR: ', fpr)"
   ]
  },
  {
   "cell_type": "markdown",
   "metadata": {},
   "source": [
    "### Random Forest Classifier"
   ]
  },
  {
   "cell_type": "code",
   "execution_count": 33,
   "metadata": {},
   "outputs": [
    {
     "name": "stdout",
     "output_type": "stream",
     "text": [
      "TPR:  0.996722600943891\n",
      "FPR:  0.9982230997038499\n"
     ]
    },
    {
     "name": "stderr",
     "output_type": "stream",
     "text": [
      "C:\\Users\\adrig\\anaconda3\\lib\\site-packages\\ipykernel_launcher.py:18: UserWarning: Boolean Series key will be reindexed to match DataFrame index.\n",
      "C:\\Users\\adrig\\anaconda3\\lib\\site-packages\\ipykernel_launcher.py:19: UserWarning: Boolean Series key will be reindexed to match DataFrame index.\n",
      "C:\\Users\\adrig\\anaconda3\\lib\\site-packages\\ipykernel_launcher.py:20: UserWarning: Boolean Series key will be reindexed to match DataFrame index.\n",
      "C:\\Users\\adrig\\anaconda3\\lib\\site-packages\\ipykernel_launcher.py:21: UserWarning: Boolean Series key will be reindexed to match DataFrame index.\n"
     ]
    }
   ],
   "source": [
    "from sklearn.ensemble import RandomForestClassifier\n",
    "from sklearn.model_selection import cross_val_predict\n",
    "\n",
    "\n",
    "lr = RandomForestClassifier(class_weight = 'balanced', random_state = 1)\n",
    "\n",
    "\n",
    "predictions = cross_val_predict(lr, features, target, cv=3)\n",
    "\n",
    "#Converting to Series objects let's take advantage of boolean filtering and arithmetic operations from pandas\n",
    "predictions = pd.Series(predictions)\n",
    "\n",
    "\n",
    "tp_filter = (predictions == 1) & (loans['loan_status'] == 1)\n",
    "fn_filter = (predictions == 0) & (loans['loan_status'] == 1)\n",
    "fp_filter = (predictions == 1) & (loans['loan_status'] == 0)\n",
    "tn_filter = (predictions == 0) & (loans['loan_status'] == 0)\n",
    "tp = len(loans[tp_filter])\n",
    "fn = len(loans[fn_filter])\n",
    "fp = len(loans[fp_filter])\n",
    "tn = len(loans[tn_filter])\n",
    "\n",
    "tpr = tp / (tp + fn) \n",
    "\n",
    "fpr = fp / (fp + tn)\n",
    "\n",
    "print('TPR: ', tpr)\n",
    "print('FPR: ', fpr)"
   ]
  },
  {
   "cell_type": "markdown",
   "metadata": {},
   "source": [
    "Unfortunately, using a random forest classifier didn't improve our false positive rate. The model is likely too heavy on the 1 class, and still mostly predicting 1s. We could fix this by applying a harsher penalty for misclassifications of 0s."
   ]
  },
  {
   "cell_type": "code",
   "execution_count": 46,
   "metadata": {},
   "outputs": [
    {
     "name": "stdout",
     "output_type": "stream",
     "text": [
      "TPR:  0.25829181961195596\n",
      "FPR:  0.25923000987166833\n"
     ]
    },
    {
     "name": "stderr",
     "output_type": "stream",
     "text": [
      "C:\\Users\\adrig\\anaconda3\\lib\\site-packages\\ipykernel_launcher.py:23: UserWarning: Boolean Series key will be reindexed to match DataFrame index.\n",
      "C:\\Users\\adrig\\anaconda3\\lib\\site-packages\\ipykernel_launcher.py:24: UserWarning: Boolean Series key will be reindexed to match DataFrame index.\n",
      "C:\\Users\\adrig\\anaconda3\\lib\\site-packages\\ipykernel_launcher.py:25: UserWarning: Boolean Series key will be reindexed to match DataFrame index.\n",
      "C:\\Users\\adrig\\anaconda3\\lib\\site-packages\\ipykernel_launcher.py:26: UserWarning: Boolean Series key will be reindexed to match DataFrame index.\n"
     ]
    }
   ],
   "source": [
    "from sklearn.ensemble import RandomForestClassifier\n",
    "from sklearn.model_selection import cross_val_predict\n",
    "\n",
    "penalty = {\n",
    "    0: 100,\n",
    "    1: 1\n",
    "    \n",
    "}\n",
    "\n",
    "lr = RandomForestClassifier(class_weight = penalty, random_state = 1, max_depth = 30, min_samples_leaf= 10, min_samples_split = 50)\n",
    "\n",
    "\n",
    "predictions = cross_val_predict(lr, features, target, cv=3)\n",
    "\n",
    "#Converting to Series objects let's take advantage of boolean filtering and arithmetic operations from pandas\n",
    "predictions = pd.Series(predictions)\n",
    "\n",
    "\n",
    "tp_filter = (predictions == 1) & (loans['loan_status'] == 1)\n",
    "fn_filter = (predictions == 0) & (loans['loan_status'] == 1)\n",
    "fp_filter = (predictions == 1) & (loans['loan_status'] == 0)\n",
    "tn_filter = (predictions == 0) & (loans['loan_status'] == 0)\n",
    "tp = len(loans[tp_filter])\n",
    "fn = len(loans[fn_filter])\n",
    "fp = len(loans[fp_filter])\n",
    "tn = len(loans[tn_filter])\n",
    "\n",
    "tpr = tp / (tp + fn) \n",
    "\n",
    "fpr = fp / (fp + tn)\n",
    "\n",
    "print('TPR: ', tpr)\n",
    "print('FPR: ', fpr)"
   ]
  },
  {
   "cell_type": "markdown",
   "metadata": {},
   "source": [
    "If we had randomly picked loans to fund, borrowers would have defaulted on 14.5% of them, and none of our models is not better than that, although we're excluding more loans than a random strategy would. Given this, there's still quite a bit of room to improve:\n",
    "\n",
    "- We can tweak the penalties further.\n",
    "- We can try models other than a random forest and logistic regression.\n",
    "- We can use some of the columns we discarded to generate better features.\n",
    "- We can ensemble multiple models to get more accurate predictions.\n",
    "- We can tune the parameters of the algorithm to achieve higher performance."
   ]
  },
  {
   "cell_type": "code",
   "execution_count": null,
   "metadata": {},
   "outputs": [],
   "source": []
  }
 ],
 "metadata": {
  "kernelspec": {
   "display_name": "Python 3",
   "language": "python",
   "name": "python3"
  },
  "language_info": {
   "codemirror_mode": {
    "name": "ipython",
    "version": 3
   },
   "file_extension": ".py",
   "mimetype": "text/x-python",
   "name": "python",
   "nbconvert_exporter": "python",
   "pygments_lexer": "ipython3",
   "version": "3.7.6"
  }
 },
 "nbformat": 4,
 "nbformat_minor": 4
}
